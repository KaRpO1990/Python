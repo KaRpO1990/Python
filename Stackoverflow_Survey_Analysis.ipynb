{
 "cells": [
  {
   "cell_type": "code",
   "execution_count": 2,
   "id": "090f1880",
   "metadata": {},
   "outputs": [
    {
     "data": {
      "text/html": [
       "<div>\n",
       "<style scoped>\n",
       "    .dataframe tbody tr th:only-of-type {\n",
       "        vertical-align: middle;\n",
       "    }\n",
       "\n",
       "    .dataframe tbody tr th {\n",
       "        vertical-align: top;\n",
       "    }\n",
       "\n",
       "    .dataframe thead th {\n",
       "        text-align: right;\n",
       "    }\n",
       "</style>\n",
       "<table border=\"1\" class=\"dataframe\">\n",
       "  <thead>\n",
       "    <tr style=\"text-align: right;\">\n",
       "      <th></th>\n",
       "      <th>ResponseId</th>\n",
       "      <th>Q120</th>\n",
       "      <th>MainBranch</th>\n",
       "      <th>Age</th>\n",
       "      <th>Employment</th>\n",
       "      <th>RemoteWork</th>\n",
       "      <th>CodingActivities</th>\n",
       "      <th>EdLevel</th>\n",
       "      <th>LearnCode</th>\n",
       "      <th>LearnCodeOnline</th>\n",
       "      <th>LearnCodeCoursesCert</th>\n",
       "      <th>YearsCode</th>\n",
       "      <th>YearsCodePro</th>\n",
       "      <th>DevType</th>\n",
       "      <th>OrgSize</th>\n",
       "      <th>PurchaseInfluence</th>\n",
       "      <th>TechList</th>\n",
       "      <th>BuyNewTool</th>\n",
       "      <th>Country</th>\n",
       "      <th>Currency</th>\n",
       "      <th>CompTotal</th>\n",
       "      <th>LanguageHaveWorkedWith</th>\n",
       "      <th>LanguageWantToWorkWith</th>\n",
       "      <th>DatabaseHaveWorkedWith</th>\n",
       "      <th>DatabaseWantToWorkWith</th>\n",
       "      <th>PlatformHaveWorkedWith</th>\n",
       "      <th>PlatformWantToWorkWith</th>\n",
       "      <th>WebframeHaveWorkedWith</th>\n",
       "      <th>WebframeWantToWorkWith</th>\n",
       "      <th>MiscTechHaveWorkedWith</th>\n",
       "      <th>MiscTechWantToWorkWith</th>\n",
       "      <th>ToolsTechHaveWorkedWith</th>\n",
       "      <th>ToolsTechWantToWorkWith</th>\n",
       "      <th>NEWCollabToolsHaveWorkedWith</th>\n",
       "      <th>NEWCollabToolsWantToWorkWith</th>\n",
       "      <th>OpSysPersonal use</th>\n",
       "      <th>OpSysProfessional use</th>\n",
       "      <th>OfficeStackAsyncHaveWorkedWith</th>\n",
       "      <th>OfficeStackAsyncWantToWorkWith</th>\n",
       "      <th>OfficeStackSyncHaveWorkedWith</th>\n",
       "      <th>OfficeStackSyncWantToWorkWith</th>\n",
       "      <th>AISearchHaveWorkedWith</th>\n",
       "      <th>AISearchWantToWorkWith</th>\n",
       "      <th>AIDevHaveWorkedWith</th>\n",
       "      <th>AIDevWantToWorkWith</th>\n",
       "      <th>NEWSOSites</th>\n",
       "      <th>SOVisitFreq</th>\n",
       "      <th>SOAccount</th>\n",
       "      <th>SOPartFreq</th>\n",
       "      <th>SOComm</th>\n",
       "      <th>SOAI</th>\n",
       "      <th>AISelect</th>\n",
       "      <th>AISent</th>\n",
       "      <th>AIAcc</th>\n",
       "      <th>AIBen</th>\n",
       "      <th>AIToolInterested in Using</th>\n",
       "      <th>AIToolCurrently Using</th>\n",
       "      <th>AIToolNot interested in Using</th>\n",
       "      <th>AINextVery different</th>\n",
       "      <th>AINextNeither different nor similar</th>\n",
       "      <th>AINextSomewhat similar</th>\n",
       "      <th>AINextVery similar</th>\n",
       "      <th>AINextSomewhat different</th>\n",
       "      <th>TBranch</th>\n",
       "      <th>ICorPM</th>\n",
       "      <th>WorkExp</th>\n",
       "      <th>Knowledge_1</th>\n",
       "      <th>Knowledge_2</th>\n",
       "      <th>Knowledge_3</th>\n",
       "      <th>Knowledge_4</th>\n",
       "      <th>Knowledge_5</th>\n",
       "      <th>Knowledge_6</th>\n",
       "      <th>Knowledge_7</th>\n",
       "      <th>Knowledge_8</th>\n",
       "      <th>Frequency_1</th>\n",
       "      <th>Frequency_2</th>\n",
       "      <th>Frequency_3</th>\n",
       "      <th>TimeSearching</th>\n",
       "      <th>TimeAnswering</th>\n",
       "      <th>ProfessionalTech</th>\n",
       "      <th>Industry</th>\n",
       "      <th>SurveyLength</th>\n",
       "      <th>SurveyEase</th>\n",
       "      <th>ConvertedCompYearly</th>\n",
       "    </tr>\n",
       "  </thead>\n",
       "  <tbody>\n",
       "    <tr>\n",
       "      <th>0</th>\n",
       "      <td>1</td>\n",
       "      <td>I agree</td>\n",
       "      <td>None of these</td>\n",
       "      <td>18-24 years old</td>\n",
       "      <td>NaN</td>\n",
       "      <td>NaN</td>\n",
       "      <td>NaN</td>\n",
       "      <td>NaN</td>\n",
       "      <td>NaN</td>\n",
       "      <td>NaN</td>\n",
       "      <td>NaN</td>\n",
       "      <td>NaN</td>\n",
       "      <td>NaN</td>\n",
       "      <td>NaN</td>\n",
       "      <td>NaN</td>\n",
       "      <td>NaN</td>\n",
       "      <td>NaN</td>\n",
       "      <td>NaN</td>\n",
       "      <td>NaN</td>\n",
       "      <td>NaN</td>\n",
       "      <td>NaN</td>\n",
       "      <td>NaN</td>\n",
       "      <td>NaN</td>\n",
       "      <td>NaN</td>\n",
       "      <td>NaN</td>\n",
       "      <td>NaN</td>\n",
       "      <td>NaN</td>\n",
       "      <td>NaN</td>\n",
       "      <td>NaN</td>\n",
       "      <td>NaN</td>\n",
       "      <td>NaN</td>\n",
       "      <td>NaN</td>\n",
       "      <td>NaN</td>\n",
       "      <td>NaN</td>\n",
       "      <td>NaN</td>\n",
       "      <td>NaN</td>\n",
       "      <td>NaN</td>\n",
       "      <td>NaN</td>\n",
       "      <td>NaN</td>\n",
       "      <td>NaN</td>\n",
       "      <td>NaN</td>\n",
       "      <td>NaN</td>\n",
       "      <td>NaN</td>\n",
       "      <td>NaN</td>\n",
       "      <td>NaN</td>\n",
       "      <td>NaN</td>\n",
       "      <td>NaN</td>\n",
       "      <td>NaN</td>\n",
       "      <td>NaN</td>\n",
       "      <td>NaN</td>\n",
       "      <td>NaN</td>\n",
       "      <td>NaN</td>\n",
       "      <td>NaN</td>\n",
       "      <td>NaN</td>\n",
       "      <td>NaN</td>\n",
       "      <td>NaN</td>\n",
       "      <td>NaN</td>\n",
       "      <td>NaN</td>\n",
       "      <td>NaN</td>\n",
       "      <td>NaN</td>\n",
       "      <td>NaN</td>\n",
       "      <td>NaN</td>\n",
       "      <td>NaN</td>\n",
       "      <td>NaN</td>\n",
       "      <td>NaN</td>\n",
       "      <td>NaN</td>\n",
       "      <td>NaN</td>\n",
       "      <td>NaN</td>\n",
       "      <td>NaN</td>\n",
       "      <td>NaN</td>\n",
       "      <td>NaN</td>\n",
       "      <td>NaN</td>\n",
       "      <td>NaN</td>\n",
       "      <td>NaN</td>\n",
       "      <td>NaN</td>\n",
       "      <td>NaN</td>\n",
       "      <td>NaN</td>\n",
       "      <td>NaN</td>\n",
       "      <td>NaN</td>\n",
       "      <td>NaN</td>\n",
       "      <td>NaN</td>\n",
       "      <td>NaN</td>\n",
       "      <td>NaN</td>\n",
       "      <td>NaN</td>\n",
       "    </tr>\n",
       "  </tbody>\n",
       "</table>\n",
       "</div>"
      ],
      "text/plain": [
       "   ResponseId     Q120     MainBranch              Age Employment RemoteWork  \\\n",
       "0           1  I agree  None of these  18-24 years old        NaN        NaN   \n",
       "\n",
       "  CodingActivities EdLevel LearnCode LearnCodeOnline LearnCodeCoursesCert  \\\n",
       "0              NaN     NaN       NaN             NaN                  NaN   \n",
       "\n",
       "  YearsCode YearsCodePro DevType OrgSize PurchaseInfluence TechList  \\\n",
       "0       NaN          NaN     NaN     NaN               NaN      NaN   \n",
       "\n",
       "  BuyNewTool Country Currency  CompTotal LanguageHaveWorkedWith  \\\n",
       "0        NaN     NaN      NaN        NaN                    NaN   \n",
       "\n",
       "  LanguageWantToWorkWith DatabaseHaveWorkedWith DatabaseWantToWorkWith  \\\n",
       "0                    NaN                    NaN                    NaN   \n",
       "\n",
       "  PlatformHaveWorkedWith PlatformWantToWorkWith WebframeHaveWorkedWith  \\\n",
       "0                    NaN                    NaN                    NaN   \n",
       "\n",
       "  WebframeWantToWorkWith MiscTechHaveWorkedWith MiscTechWantToWorkWith  \\\n",
       "0                    NaN                    NaN                    NaN   \n",
       "\n",
       "  ToolsTechHaveWorkedWith ToolsTechWantToWorkWith  \\\n",
       "0                     NaN                     NaN   \n",
       "\n",
       "  NEWCollabToolsHaveWorkedWith NEWCollabToolsWantToWorkWith OpSysPersonal use  \\\n",
       "0                          NaN                          NaN               NaN   \n",
       "\n",
       "  OpSysProfessional use OfficeStackAsyncHaveWorkedWith  \\\n",
       "0                   NaN                            NaN   \n",
       "\n",
       "  OfficeStackAsyncWantToWorkWith OfficeStackSyncHaveWorkedWith  \\\n",
       "0                            NaN                           NaN   \n",
       "\n",
       "  OfficeStackSyncWantToWorkWith AISearchHaveWorkedWith AISearchWantToWorkWith  \\\n",
       "0                           NaN                    NaN                    NaN   \n",
       "\n",
       "  AIDevHaveWorkedWith AIDevWantToWorkWith NEWSOSites SOVisitFreq SOAccount  \\\n",
       "0                 NaN                 NaN        NaN         NaN       NaN   \n",
       "\n",
       "  SOPartFreq SOComm SOAI AISelect AISent AIAcc AIBen  \\\n",
       "0        NaN    NaN  NaN      NaN    NaN   NaN   NaN   \n",
       "\n",
       "  AIToolInterested in Using AIToolCurrently Using  \\\n",
       "0                       NaN                   NaN   \n",
       "\n",
       "  AIToolNot interested in Using AINextVery different  \\\n",
       "0                           NaN                  NaN   \n",
       "\n",
       "  AINextNeither different nor similar AINextSomewhat similar  \\\n",
       "0                                 NaN                    NaN   \n",
       "\n",
       "  AINextVery similar AINextSomewhat different TBranch ICorPM  WorkExp  \\\n",
       "0                NaN                      NaN     NaN    NaN      NaN   \n",
       "\n",
       "  Knowledge_1 Knowledge_2 Knowledge_3 Knowledge_4 Knowledge_5 Knowledge_6  \\\n",
       "0         NaN         NaN         NaN         NaN         NaN         NaN   \n",
       "\n",
       "  Knowledge_7 Knowledge_8 Frequency_1 Frequency_2 Frequency_3 TimeSearching  \\\n",
       "0         NaN         NaN         NaN         NaN         NaN           NaN   \n",
       "\n",
       "  TimeAnswering ProfessionalTech Industry SurveyLength SurveyEase  \\\n",
       "0           NaN              NaN      NaN          NaN        NaN   \n",
       "\n",
       "   ConvertedCompYearly  \n",
       "0                  NaN  "
      ]
     },
     "execution_count": 2,
     "metadata": {},
     "output_type": "execute_result"
    }
   ],
   "source": [
    "import pandas as pd\n",
    "import numpy as np\n",
    "import pandas as pd\n",
    "# # параметри виведення \n",
    "pd.set_option(\"display.max_columns\", 500) # кількість колонок\n",
    "pd.set_option(\"display.max_rows\", 1000) # кількість рядків\n",
    "pd.set_option(\"display.max_colwidth\", 300) # ширина колонок\n",
    "pd.set_option(\"display.precision\", 7) # кількість знаків після коми\n",
    "\n",
    "# # вимикаємо зайві попередження\n",
    "import warnings\n",
    "warnings.filterwarnings(\"ignore\") \n",
    "\n",
    "# # друк всіх результатів в одній комірці а не тільки останнього\n",
    "from IPython.core.interactiveshell import InteractiveShell\n",
    "InteractiveShell.ast_node_interactivity = \"all\"\n",
    "\n",
    "df= pd.read_csv('survey_results_public.csv')\n",
    "shema = pd.read_csv('survey_results_schema.csv')\n",
    "df.head(1)"
   ]
  },
  {
   "cell_type": "code",
   "execution_count": 3,
   "id": "94118d2d",
   "metadata": {},
   "outputs": [
    {
     "name": "stdout",
     "output_type": "stream",
     "text": [
      "Респонденти що пройшли опитування: 89184\n"
     ]
    }
   ],
   "source": [
    "#Скільки респондентів пройшли опитування?\n",
    "response_count = df.count()['ResponseId']\n",
    "print(f'Респонденти що пройшли опитування: {response_count}')"
   ]
  },
  {
   "cell_type": "code",
   "execution_count": 4,
   "id": "5c1406ed",
   "metadata": {},
   "outputs": [
    {
     "name": "stdout",
     "output_type": "stream",
     "text": [
      "Респонденти що відповіли на всі питання: 2032\n"
     ]
    }
   ],
   "source": [
    "#Скільки респондентів відповіли на всі запитання?\n",
    "questions = set(shema.qname.unique()) & set(df.columns)\n",
    "all_quesions = df.dropna(subset=questions).shape[0]\n",
    "print(f\"Респонденти що відповіли на всі питання: {all_quesions}\")"
   ]
  },
  {
   "cell_type": "code",
   "execution_count": 6,
   "id": "48ad9e01",
   "metadata": {},
   "outputs": [
    {
     "name": "stdout",
     "output_type": "stream",
     "text": [
      "Середній арифметичний досвід роботи:11.41, медіанна: 9.0, та мода: 5.0\n"
     ]
    }
   ],
   "source": [
    "#Які значення мір центральної тенденції для досвіду (WorkExp) респондентів?\n",
    "df_mean = df['WorkExp'].mean()\n",
    "df_median = df['WorkExp'].median()\n",
    "df_mode = df['WorkExp'].mode()[0]\n",
    "df_mean_round = round(df_mean,2)\n",
    "print(f'Середній арифметичний досвід роботи:{df_mean_round}, медіанна: {df_median}, та мода: {df_mode}')"
   ]
  },
  {
   "cell_type": "code",
   "execution_count": 7,
   "id": "161f8f26",
   "metadata": {},
   "outputs": [
    {
     "name": "stdout",
     "output_type": "stream",
     "text": [
      "Респонденти що працюють лише віддалено: 30566\n"
     ]
    }
   ],
   "source": [
    "#Скільки респондентів працює віддалено?\n",
    "df_rw = df['RemoteWork'] == 'Remote'\n",
    "count_df_rw = df_rw.sum()\n",
    "print(f'Респонденти що працюють лише віддалено: {count_df_rw}')"
   ]
  },
  {
   "cell_type": "code",
   "execution_count": 8,
   "id": "9425c04c",
   "metadata": {},
   "outputs": [
    {
     "name": "stdout",
     "output_type": "stream",
     "text": [
      "Відсоток респондентів що програмують на Python: 48.39%\n"
     ]
    }
   ],
   "source": [
    "#Який відсоток респондентів програмує на Python?\n",
    "df_python_code = df['LanguageHaveWorkedWith'].str.contains('Python',case=False, na=False)\n",
    "count_df_python_code = df_python_code.sum()\n",
    "persent_count_df_python_code = count_df_python_code / response_count*100\n",
    "round_count_df_python_code = round(persent_count_df_python_code,2)\n",
    "print(f'Відсоток респондентів що програмують на Python: {round_count_df_python_code}%')"
   ]
  },
  {
   "cell_type": "code",
   "execution_count": 9,
   "id": "f4d1ef5e",
   "metadata": {},
   "outputs": [
    {
     "name": "stdout",
     "output_type": "stream",
     "text": [
      "Респонденти що вчилися програмуванню на онлайн курсах: 43201\n"
     ]
    }
   ],
   "source": [
    "#Скільки респондентів навчалося програмувати за допомогою онлайн курсів?\n",
    "df_learn_code_courses = df['LearnCode'].str.contains('Online Courses or Certification',case=False, na=False)\n",
    "coubt_df_learn_code_courses = df_learn_code_courses.sum()\n",
    "print(f'Респонденти що вчилися програмуванню на онлайн курсах: {coubt_df_learn_code_courses}')"
   ]
  },
  {
   "cell_type": "code",
   "execution_count": 13,
   "id": "a956ed59",
   "metadata": {},
   "outputs": [
    {
     "data": {
      "text/html": [
       "<div>\n",
       "<style scoped>\n",
       "    .dataframe tbody tr th:only-of-type {\n",
       "        vertical-align: middle;\n",
       "    }\n",
       "\n",
       "    .dataframe tbody tr th {\n",
       "        vertical-align: top;\n",
       "    }\n",
       "\n",
       "    .dataframe thead th {\n",
       "        text-align: right;\n",
       "    }\n",
       "</style>\n",
       "<table border=\"1\" class=\"dataframe\">\n",
       "  <thead>\n",
       "    <tr style=\"text-align: right;\">\n",
       "      <th></th>\n",
       "      <th>mean</th>\n",
       "      <th>median</th>\n",
       "    </tr>\n",
       "    <tr>\n",
       "      <th>Country</th>\n",
       "      <th></th>\n",
       "      <th></th>\n",
       "    </tr>\n",
       "  </thead>\n",
       "  <tbody>\n",
       "    <tr>\n",
       "      <th>Afghanistan</th>\n",
       "      <td>665.0000000</td>\n",
       "      <td>48.0</td>\n",
       "    </tr>\n",
       "    <tr>\n",
       "      <th>Albania</th>\n",
       "      <td>28008.6000000</td>\n",
       "      <td>11844.0</td>\n",
       "    </tr>\n",
       "    <tr>\n",
       "      <th>Algeria</th>\n",
       "      <td>8336.3333333</td>\n",
       "      <td>6586.0</td>\n",
       "    </tr>\n",
       "    <tr>\n",
       "      <th>Andorra</th>\n",
       "      <td>32127.0000000</td>\n",
       "      <td>32127.0</td>\n",
       "    </tr>\n",
       "    <tr>\n",
       "      <th>Angola</th>\n",
       "      <td>662.0000000</td>\n",
       "      <td>662.0</td>\n",
       "    </tr>\n",
       "  </tbody>\n",
       "</table>\n",
       "</div>"
      ],
      "text/plain": [
       "                      mean   median\n",
       "Country                            \n",
       "Afghanistan    665.0000000     48.0\n",
       "Albania      28008.6000000  11844.0\n",
       "Algeria       8336.3333333   6586.0\n",
       "Andorra      32127.0000000  32127.0\n",
       "Angola         662.0000000    662.0"
      ]
     },
     "execution_count": 13,
     "metadata": {},
     "output_type": "execute_result"
    }
   ],
   "source": [
    "#Серед респондентів що програмують на Python в групуванні по країнам, яка середня та медіанна сума компенсації (ConvertedCompYearly) в кожній країні?\n",
    "df_python_programmers = df[df['LanguageHaveWorkedWith'].str.contains('Python', case=False, na=False)]\n",
    "grouped_data = df_python_programmers.groupby('Country')['ConvertedCompYearly'].agg(['mean', 'median'])\n",
    "grouped_data.head(5)"
   ]
  },
  {
   "cell_type": "code",
   "execution_count": 14,
   "id": "5e038582",
   "metadata": {},
   "outputs": [
    {
     "name": "stdout",
     "output_type": "stream",
     "text": [
      "                                              EdLevel  ConvertedCompYearly\n",
      "53268  Professional degree (JD, MD, Ph.D, Ed.D, etc.)           74351432.0\n",
      "77848  Professional degree (JD, MD, Ph.D, Ed.D, etc.)           73607918.0\n",
      "66223    Bachelor’s degree (B.A., B.S., B.Eng., etc.)           72714292.0\n",
      "28121                       Primary/elementary school           57513831.0\n",
      "19679  Professional degree (JD, MD, Ph.D, Ed.D, etc.)           36573181.0\n"
     ]
    }
   ],
   "source": [
    "#Які рівні освіти мають 5 респондентів з найбільшою компенсацією?\n",
    "df_top_5 = df.sort_values(by='ConvertedCompYearly', ascending = False).head(5)\n",
    "degree_top_5 = df_top_5[['EdLevel','ConvertedCompYearly']]\n",
    "print(degree_top_5)"
   ]
  },
  {
   "cell_type": "code",
   "execution_count": 15,
   "id": "ec0c7fe6",
   "metadata": {},
   "outputs": [
    {
     "name": "stdout",
     "output_type": "stream",
     "text": [
      "Age\n",
      "18-24 years old       61.3908873\n",
      "25-34 years old       47.5772250\n",
      "35-44 years old       41.4426261\n",
      "45-54 years old       38.4569234\n",
      "55-64 years old       36.4976415\n",
      "65 years or older     30.9137489\n",
      "Prefer not to say     41.2026726\n",
      "Under 18 years old    68.6288760\n",
      "Name: Age, dtype: float64\n"
     ]
    }
   ],
   "source": [
    "#В кожній віковій категорії, який відсоток респондентів програмує на Python?\n",
    "df_python_coders = df[df['LanguageHaveWorkedWith'].str.contains('Python', case=False, na=False)]\n",
    "grouped_age = (df_python_coders.groupby('Age')['Age'].count() / df.groupby('Age')['Age'].count()) * 100\n",
    "print(grouped_age)"
   ]
  },
  {
   "cell_type": "code",
   "execution_count": 16,
   "id": "6271ca9a",
   "metadata": {},
   "outputs": [
    {
     "data": {
      "text/plain": [
       "DevType\n",
       "Developer, full-stack      2362\n",
       "Developer, back-end        1512\n",
       "Developer, front-end        375\n",
       "Engineering manager         312\n",
       "Other (please specify):     273\n",
       "Name: count, dtype: int64"
      ]
     },
     "execution_count": 16,
     "metadata": {},
     "output_type": "execute_result"
    }
   ],
   "source": [
    "#Серед респондентів що знаходяться в 75 перцентилі за компенсацією середнього і працюють віддалено, які індустрії є найрозповсюдженішими?\n",
    "percentile_75 = df['ConvertedCompYearly'].quantile(0.75) \n",
    "respondent_high_level_remote = df[(df['ConvertedCompYearly'] >= percentile_75) & (df['RemoteWork'] == 'Remote')]\n",
    "industry_counts = respondent_high_level_remote['DevType'].explode().value_counts()\n",
    "industry_counts.head(5)"
   ]
  }
 ],
 "metadata": {
  "kernelspec": {
   "display_name": "Python 3 (ipykernel)",
   "language": "python",
   "name": "python3"
  },
  "language_info": {
   "codemirror_mode": {
    "name": "ipython",
    "version": 3
   },
   "file_extension": ".py",
   "mimetype": "text/x-python",
   "name": "python",
   "nbconvert_exporter": "python",
   "pygments_lexer": "ipython3",
   "version": "3.11.5"
  }
 },
 "nbformat": 4,
 "nbformat_minor": 5
}
