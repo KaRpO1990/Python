{
 "cells": [
  {
   "cell_type": "code",
   "execution_count": 14,
   "id": "83346e38",
   "metadata": {},
   "outputs": [],
   "source": [
    "import numpy as np\n",
    "import pandas as pd\n",
    "import matplotlib.pyplot as plt\n",
    "import seaborn as sns\n",
    "import datetime \n",
    "# # параметри виведення \n",
    "pd.set_option(\"display.max_columns\", 500) # кількість колонок\n",
    "pd.set_option(\"display.max_rows\", 1000) # кількість рядків\n",
    "pd.set_option(\"display.max_colwidth\", 300) # ширина колонок\n",
    "pd.set_option(\"display.precision\", 7) # кількість знаків після коми\n",
    "\n",
    "# # вимикаємо зайві попередження\n",
    "import warnings\n",
    "warnings.filterwarnings(\"ignore\") \n",
    "\n",
    "# # друк всіх результатів в одній комірці а не тільки останнього\n",
    "from IPython.core.interactiveshell import InteractiveShell\n",
    "InteractiveShell.ast_node_interactivity = \"last\"\n",
    "\n",
    "df= pd.read_csv('applications.csv')\n",
    "df2=pd.read_csv('industries.csv')"
   ]
  },
  {
   "cell_type": "code",
   "execution_count": 15,
   "id": "7fde6f21",
   "metadata": {},
   "outputs": [],
   "source": [
    "df3=pd.merge(df,df2, on='Industry', how='left')\n",
    "\n",
    "unique_df = df3.drop_duplicates(subset='applicant_id', keep='first', inplace = False)\n",
    "\n",
    "unique_df['External Rating'].fillna(value=0,inplace=True)\n",
    "\n",
    "unique_df['Education level'].fillna(value='Середня',inplace=True)"
   ]
  },
  {
   "cell_type": "code",
   "execution_count": 16,
   "id": "02438d17",
   "metadata": {},
   "outputs": [],
   "source": [
    "unique_df = unique_df[~((unique_df['Amount'].isna()) | (unique_df['External Rating'] == 0))]\n",
    "\n",
    "unique_df['Applied at'] = pd.to_datetime(unique_df['Applied at'], format='mixed')\n",
    "\n",
    "day_week = unique_df['Applied at'].apply(lambda time: time.strftime('%A'))\n",
    "\n",
    "unique_df['Week day'] = day_week"
   ]
  },
  {
   "cell_type": "code",
   "execution_count": 17,
   "id": "4eb51fa2",
   "metadata": {},
   "outputs": [],
   "source": [
    "conditions = [\n",
    "    (unique_df['Age'].between(35, 55)),\n",
    "    (~unique_df['Week day'].str.startswith(('Saturday', 'Sunday'))),\n",
    "    (unique_df['Marital status'] == 'Married'),\n",
    "    (unique_df['Location'].isin(['Київ чи область'])),\n",
    "    (unique_df['External Rating'] >= 7),\n",
    "    (unique_df['External Rating'] <= 2)\n",
    "]\n",
    "\n",
    "points = [20, 20, 20, 10, 20, -20]\n",
    "\n",
    "for condition,point in zip(conditions,points):\n",
    "    unique_df['Score'] += condition*point"
   ]
  },
  {
   "cell_type": "code",
   "execution_count": 18,
   "id": "3d7c63ef",
   "metadata": {},
   "outputs": [],
   "source": [
    "unique_df = unique_df[unique_df['Score'] != 0]\n",
    "def get_first_day_of_week(date):\n",
    "    year, week, day_of_week = date.isocalendar()\n",
    "    first_day_of_week = date - datetime.timedelta(days=day_of_week - 1)\n",
    "    return first_day_of_week\n",
    "\n",
    "unique_df['First_day_week'] = unique_df['Applied at'].dt.date.apply(get_first_day_of_week)"
   ]
  },
  {
   "cell_type": "code",
   "execution_count": 19,
   "id": "75de695d",
   "metadata": {},
   "outputs": [
    {
     "data": {
      "image/png": "[encoded data removed]",
      "text/plain": [
       "<Figure size 500x400 with 1 Axes>"
      ]
     },
     "metadata": {},
     "output_type": "display_data"
    }
   ],
   "source": [
    "unique_df_grouped = unique_df.groupby(unique_df['First_day_week'])['Score'].mean().reset_index()\n",
    "\n",
    "plt.figure(figsize=(5,4))\n",
    "sns.barplot(data=unique_df_grouped, x='First_day_week', y='Score',color='forestgreen',edgecolor='black')\n",
    "plt.title('Середня кількість балів по тижнях.')\n",
    "plt.xlabel('Week number')\n",
    "plt.ylabel('Score')\n",
    "plt.xticks(rotation=20)\n",
    "plt.show()"
   ]
  },
  {
   "cell_type": "code",
   "execution_count": null,
   "id": "d7bc13a5",
   "metadata": {},
   "outputs": [],
   "source": []
  },
  {
   "cell_type": "code",
   "execution_count": null,
   "id": "a806e730",
   "metadata": {},
   "outputs": [],
   "source": []
  },
  {
   "cell_type": "code",
   "execution_count": null,
   "id": "73a99311",
   "metadata": {},
   "outputs": [],
   "source": []
  },
  {
   "cell_type": "code",
   "execution_count": null,
   "id": "327a9ec6",
   "metadata": {},
   "outputs": [],
   "source": []
  },
  {
   "cell_type": "code",
   "execution_count": null,
   "id": "131df6d3",
   "metadata": {},
   "outputs": [],
   "source": []
  },
  {
   "cell_type": "code",
   "execution_count": null,
   "id": "0a673777",
   "metadata": {},
   "outputs": [],
   "source": []
  },
  {
   "cell_type": "code",
   "execution_count": null,
   "id": "79f6a739",
   "metadata": {},
   "outputs": [],
   "source": []
  },
  {
   "cell_type": "code",
   "execution_count": null,
   "id": "800f1e36",
   "metadata": {},
   "outputs": [],
   "source": []
  },
  {
   "cell_type": "code",
   "execution_count": null,
   "id": "576663be",
   "metadata": {},
   "outputs": [],
   "source": []
  }
 ],
 "metadata": {
  "kernelspec": {
   "display_name": "Python 3 (ipykernel)",
   "language": "python",
   "name": "python3"
  },
  "language_info": {
   "codemirror_mode": {
    "name": "ipython",
    "version": 3
   },
   "file_extension": ".py",
   "mimetype": "text/x-python",
   "name": "python",
   "nbconvert_exporter": "python",
   "pygments_lexer": "ipython3",
   "version": "3.11.5"
  }
 },
 "nbformat": 4,
 "nbformat_minor": 5
}
